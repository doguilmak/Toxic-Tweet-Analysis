{
 "cells": [
  {
   "cell_type": "markdown",
   "id": "af5c55fe",
   "metadata": {},
   "source": [
    "# Toxic Tweets Dataset\n",
    "\n",
    "### A balanced dataset of tweets containing hate speech and offensive language.\n",
    "\n",
    "<a href=\"https://twitter.com/\"><img src=\"https://www.pazarlamasyon.com/wp-content/uploads/2022/2/4/twitter-dan-karakter-sinirina-cozum-getirecek-yeni-bir-ozellik.jpg\" alt=\"Twitter\"></a>\n"
   ]
  },
  {
   "cell_type": "markdown",
   "id": "f63a51de",
   "metadata": {},
   "source": [
    "### Context:\n",
    "\n",
    "I was working on a project to query tweets using the Twitter API, when I realized the datasets I came across were all extremely imbalanced ones. This was a huge problem for me as I needed a better dataset, so I decided to build one!\n",
    "\n",
    "### Content: \n",
    "\n",
    "This dataset is a combination of various datasets which had high levels of class imbalance in them. No data was changed edited or emoved from any of the datasets to maintain the integrity of the data. Only a combination of various datasets in order to achieve balance.\n",
    "\n",
    "### Inspiration:\n",
    "\n",
    "<ul>\n",
    "    <li>What factors lead people to judge a tweet as toxic?</li>\n",
    "    <li>Build a toxicity detector</li>\n",
    "    <li>Build a sentiment analyser</li>\n",
    "</ul>\n"
   ]
  },
  {
   "cell_type": "markdown",
   "id": "eb9a8a84",
   "metadata": {},
   "source": [
    "## Dataset:\n",
    "\n",
    "1 - https://www.kaggle.com/ashwiniyer176/toxic-tweets-dataset"
   ]
  },
  {
   "cell_type": "markdown",
   "id": "c12aafdf",
   "metadata": {},
   "source": [
    "## Building Passive Aggressive Classifier to Prediction"
   ]
  },
  {
   "cell_type": "markdown",
   "id": "74bb8753",
   "metadata": {},
   "source": [
    "### Importing libraries"
   ]
  },
  {
   "cell_type": "code",
   "execution_count": 1,
   "id": "7cb03586",
   "metadata": {},
   "outputs": [],
   "source": [
    "import warnings\n",
    "warnings.filterwarnings(\"ignore\")\n",
    "import pandas as pd\n",
    "import seaborn as sns\n",
    "import matplotlib.pyplot as plt \n",
    "from sklearn.model_selection import train_test_split\n",
    "from sklearn.feature_extraction.text import TfidfVectorizer\n",
    "from sklearn.linear_model import PassiveAggressiveClassifier\n",
    "from sklearn.metrics import accuracy_score, confusion_matrix"
   ]
  },
  {
   "cell_type": "markdown",
   "id": "61c0d89f",
   "metadata": {},
   "source": [
    "### Importing the data"
   ]
  },
  {
   "cell_type": "code",
   "execution_count": 3,
   "id": "22b356ae",
   "metadata": {},
   "outputs": [
    {
     "data": {
      "text/html": [
       "<div>\n",
       "<style scoped>\n",
       "    .dataframe tbody tr th:only-of-type {\n",
       "        vertical-align: middle;\n",
       "    }\n",
       "\n",
       "    .dataframe tbody tr th {\n",
       "        vertical-align: top;\n",
       "    }\n",
       "\n",
       "    .dataframe thead th {\n",
       "        text-align: right;\n",
       "    }\n",
       "</style>\n",
       "<table border=\"1\" class=\"dataframe\">\n",
       "  <thead>\n",
       "    <tr style=\"text-align: right;\">\n",
       "      <th></th>\n",
       "      <th>Unnamed: 0</th>\n",
       "      <th>Toxicity</th>\n",
       "      <th>tweet</th>\n",
       "    </tr>\n",
       "  </thead>\n",
       "  <tbody>\n",
       "    <tr>\n",
       "      <th>0</th>\n",
       "      <td>0</td>\n",
       "      <td>0</td>\n",
       "      <td>@user when a father is dysfunctional and is s...</td>\n",
       "    </tr>\n",
       "    <tr>\n",
       "      <th>1</th>\n",
       "      <td>1</td>\n",
       "      <td>0</td>\n",
       "      <td>@user @user thanks for #lyft credit i can't us...</td>\n",
       "    </tr>\n",
       "    <tr>\n",
       "      <th>2</th>\n",
       "      <td>2</td>\n",
       "      <td>0</td>\n",
       "      <td>bihday your majesty</td>\n",
       "    </tr>\n",
       "    <tr>\n",
       "      <th>3</th>\n",
       "      <td>3</td>\n",
       "      <td>0</td>\n",
       "      <td>#model   i love u take with u all the time in ...</td>\n",
       "    </tr>\n",
       "    <tr>\n",
       "      <th>4</th>\n",
       "      <td>4</td>\n",
       "      <td>0</td>\n",
       "      <td>factsguide: society now    #motivation</td>\n",
       "    </tr>\n",
       "    <tr>\n",
       "      <th>...</th>\n",
       "      <td>...</td>\n",
       "      <td>...</td>\n",
       "      <td>...</td>\n",
       "    </tr>\n",
       "    <tr>\n",
       "      <th>56740</th>\n",
       "      <td>56740</td>\n",
       "      <td>1</td>\n",
       "      <td>you's a muthaf***in lie &amp;#8220;@LifeAsKing: @2...</td>\n",
       "    </tr>\n",
       "    <tr>\n",
       "      <th>56741</th>\n",
       "      <td>56741</td>\n",
       "      <td>1</td>\n",
       "      <td>you've gone and broke the wrong heart baby, an...</td>\n",
       "    </tr>\n",
       "    <tr>\n",
       "      <th>56742</th>\n",
       "      <td>56742</td>\n",
       "      <td>1</td>\n",
       "      <td>young buck wanna eat!!.. dat nigguh like I ain...</td>\n",
       "    </tr>\n",
       "    <tr>\n",
       "      <th>56743</th>\n",
       "      <td>56743</td>\n",
       "      <td>1</td>\n",
       "      <td>youu got wild bitches tellin you lies</td>\n",
       "    </tr>\n",
       "    <tr>\n",
       "      <th>56744</th>\n",
       "      <td>56744</td>\n",
       "      <td>0</td>\n",
       "      <td>~~Ruffled | Ntac Eileen Dahlia - Beautiful col...</td>\n",
       "    </tr>\n",
       "  </tbody>\n",
       "</table>\n",
       "<p>56745 rows × 3 columns</p>\n",
       "</div>"
      ],
      "text/plain": [
       "       Unnamed: 0  Toxicity                                              tweet\n",
       "0               0         0   @user when a father is dysfunctional and is s...\n",
       "1               1         0  @user @user thanks for #lyft credit i can't us...\n",
       "2               2         0                                bihday your majesty\n",
       "3               3         0  #model   i love u take with u all the time in ...\n",
       "4               4         0             factsguide: society now    #motivation\n",
       "...           ...       ...                                                ...\n",
       "56740       56740         1  you's a muthaf***in lie &#8220;@LifeAsKing: @2...\n",
       "56741       56741         1  you've gone and broke the wrong heart baby, an...\n",
       "56742       56742         1  young buck wanna eat!!.. dat nigguh like I ain...\n",
       "56743       56743         1              youu got wild bitches tellin you lies\n",
       "56744       56744         0  ~~Ruffled | Ntac Eileen Dahlia - Beautiful col...\n",
       "\n",
       "[56745 rows x 3 columns]"
      ]
     },
     "execution_count": 3,
     "metadata": {},
     "output_type": "execute_result"
    }
   ],
   "source": [
    "df=pd.read_csv('FinalBalancedDataset.csv')\n",
    "LABEL=df['Toxicity']\n",
    "df"
   ]
  },
  {
   "cell_type": "code",
   "execution_count": 4,
   "id": "94646815",
   "metadata": {},
   "outputs": [
    {
     "data": {
      "text/plain": [
       "0        0\n",
       "1        0\n",
       "2        0\n",
       "3        0\n",
       "4        0\n",
       "        ..\n",
       "56740    1\n",
       "56741    1\n",
       "56742    1\n",
       "56743    1\n",
       "56744    0\n",
       "Name: Toxicity, Length: 56745, dtype: int64"
      ]
     },
     "execution_count": 4,
     "metadata": {},
     "output_type": "execute_result"
    }
   ],
   "source": [
    "LABEL"
   ]
  },
  {
   "cell_type": "markdown",
   "id": "f62f99b4",
   "metadata": {},
   "source": [
    "### Data Preprocessing"
   ]
  },
  {
   "cell_type": "code",
   "execution_count": 5,
   "id": "53833661",
   "metadata": {},
   "outputs": [
    {
     "data": {
      "text/plain": [
       "0    32592\n",
       "1    24153\n",
       "Name: Toxicity, dtype: int64"
      ]
     },
     "execution_count": 5,
     "metadata": {},
     "output_type": "execute_result"
    }
   ],
   "source": [
    "LABEL.value_counts()"
   ]
  },
  {
   "cell_type": "code",
   "execution_count": 6,
   "id": "c2b8860c",
   "metadata": {},
   "outputs": [
    {
     "data": {
      "text/plain": [
       "(56745, 3)"
      ]
     },
     "execution_count": 6,
     "metadata": {},
     "output_type": "execute_result"
    }
   ],
   "source": [
    "df.shape"
   ]
  },
  {
   "cell_type": "code",
   "execution_count": 7,
   "id": "c95d2b5a",
   "metadata": {},
   "outputs": [
    {
     "name": "stdout",
     "output_type": "stream",
     "text": [
      "<class 'pandas.core.frame.DataFrame'>\n",
      "RangeIndex: 56745 entries, 0 to 56744\n",
      "Data columns (total 3 columns):\n",
      " #   Column      Non-Null Count  Dtype \n",
      "---  ------      --------------  ----- \n",
      " 0   Unnamed: 0  56745 non-null  int64 \n",
      " 1   Toxicity    56745 non-null  int64 \n",
      " 2   tweet       56745 non-null  object\n",
      "dtypes: int64(2), object(1)\n",
      "memory usage: 1.3+ MB\n"
     ]
    }
   ],
   "source": [
    "df.info()"
   ]
  },
  {
   "cell_type": "code",
   "execution_count": 8,
   "id": "eb596032",
   "metadata": {},
   "outputs": [
    {
     "data": {
      "text/plain": [
       "Unnamed: 0    0\n",
       "Toxicity      0\n",
       "tweet         0\n",
       "dtype: int64"
      ]
     },
     "execution_count": 8,
     "metadata": {},
     "output_type": "execute_result"
    }
   ],
   "source": [
    "df.isnull().sum()"
   ]
  },
  {
   "cell_type": "code",
   "execution_count": 9,
   "id": "c01ccc05",
   "metadata": {},
   "outputs": [
    {
     "data": {
      "text/plain": [
       "0"
      ]
     },
     "execution_count": 9,
     "metadata": {},
     "output_type": "execute_result"
    }
   ],
   "source": [
    "df.duplicated().sum()"
   ]
  },
  {
   "cell_type": "markdown",
   "id": "fc1c54aa",
   "metadata": {},
   "source": [
    "### Toxic Types on Histogram"
   ]
  },
  {
   "cell_type": "code",
   "execution_count": 11,
   "id": "df651133",
   "metadata": {},
   "outputs": [
    {
     "data": {
      "image/png": "[encoded data removed]",
      "text/plain": [
       "<Figure size 1080x864 with 1 Axes>"
      ]
     },
     "metadata": {},
     "output_type": "display_data"
    }
   ],
   "source": [
    "plt.figure(figsize = (15, 12))\n",
    "sns.set_style('whitegrid')    \n",
    "sns.histplot(data=LABEL)\n",
    "plt.title(\"Toxic Tweet Analysis on Histogram\")\n",
    "plt.xlabel(\"Toxic Types\")\n",
    "plt.ylabel(\"Reviews in Total\")\n",
    "plt.show()"
   ]
  },
  {
   "cell_type": "code",
   "execution_count": 13,
   "id": "1aa27c6f",
   "metadata": {},
   "outputs": [
    {
     "data": {
      "text/plain": [
       "0    0\n",
       "1    0\n",
       "2    0\n",
       "3    0\n",
       "4    0\n",
       "5    0\n",
       "6    0\n",
       "7    0\n",
       "8    0\n",
       "9    0\n",
       "Name: Toxicity, dtype: int64"
      ]
     },
     "execution_count": 13,
     "metadata": {},
     "output_type": "execute_result"
    }
   ],
   "source": [
    "labels=df.Toxicity\n",
    "labels.head(10)"
   ]
  },
  {
   "cell_type": "markdown",
   "id": "40550975",
   "metadata": {},
   "source": [
    "### Train - Test Split"
   ]
  },
  {
   "cell_type": "code",
   "execution_count": 15,
   "id": "193a615b",
   "metadata": {},
   "outputs": [],
   "source": [
    "x_train, x_test, y_train, y_test=train_test_split(df['tweet'], labels, test_size=0.2, random_state=7)"
   ]
  },
  {
   "cell_type": "markdown",
   "id": "809ac1d4",
   "metadata": {},
   "source": [
    "### Initialize a TfidfVectorizer"
   ]
  },
  {
   "cell_type": "code",
   "execution_count": 16,
   "id": "c991cfd7",
   "metadata": {},
   "outputs": [],
   "source": [
    "tfidf_vectorizer = TfidfVectorizer(stop_words='english', max_df=0.7)"
   ]
  },
  {
   "cell_type": "markdown",
   "id": "3b78ef4d",
   "metadata": {},
   "source": [
    "### Fit and transform train set, transform test set"
   ]
  },
  {
   "cell_type": "code",
   "execution_count": 17,
   "id": "ac8fdd21",
   "metadata": {},
   "outputs": [],
   "source": [
    "tfidf_train = tfidf_vectorizer.fit_transform(x_train) \n",
    "tfidf_test = tfidf_vectorizer.transform(x_test)"
   ]
  },
  {
   "cell_type": "markdown",
   "id": "df2ae515",
   "metadata": {},
   "source": [
    "### Initialize a PassiveAggressiveClassifier\n",
    "\n",
    "The passive-aggressive algorithms are a family of algorithms for large-scale learning. They are similar to the Perceptron in that they do not require a learning rate.\n",
    "\n",
    "To learn more check:\n",
    "\n",
    "<ul>\n",
    "    <li>https://scikit-learn.org/stable/modules/generated/sklearn.linear_model.PassiveAggressiveClassifier.html</li>\n",
    "    <li>https://scikit-learn.org/stable/modules/linear_model.html#passive-aggressive</li>\n",
    "</ul>"
   ]
  },
  {
   "cell_type": "code",
   "execution_count": 18,
   "id": "09b07ea2",
   "metadata": {},
   "outputs": [
    {
     "data": {
      "text/plain": [
       "PassiveAggressiveClassifier(max_iter=50)"
      ]
     },
     "execution_count": 18,
     "metadata": {},
     "output_type": "execute_result"
    }
   ],
   "source": [
    "pac = PassiveAggressiveClassifier(max_iter=50)\n",
    "pac.fit(tfidf_train, y_train)"
   ]
  },
  {
   "cell_type": "code",
   "execution_count": 19,
   "id": "552d268a",
   "metadata": {},
   "outputs": [
    {
     "name": "stdout",
     "output_type": "stream",
     "text": [
      "Accuracy score: 0.9321526125649837\n"
     ]
    }
   ],
   "source": [
    "y_pred = pac.predict(tfidf_test)\n",
    "score = accuracy_score(y_test, y_pred)\n",
    "print(f'Accuracy score: {score}')"
   ]
  },
  {
   "cell_type": "markdown",
   "id": "44b262bc",
   "metadata": {},
   "source": [
    "### Confusion Matrix"
   ]
  },
  {
   "cell_type": "code",
   "execution_count": 20,
   "id": "385842a5",
   "metadata": {},
   "outputs": [
    {
     "name": "stdout",
     "output_type": "stream",
     "text": [
      "\n",
      "Confusion Matrix (PassiveAggressiveClassifier):\n",
      " [[6208  385]\n",
      " [ 385 4371]]\n"
     ]
    }
   ],
   "source": [
    "cm=confusion_matrix(y_test, y_pred, labels=[0, 1])\n",
    "print(\"\\nConfusion Matrix (PassiveAggressiveClassifier):\\n\", cm)"
   ]
  },
  {
   "cell_type": "code",
   "execution_count": 21,
   "id": "e685c413",
   "metadata": {},
   "outputs": [],
   "source": [
    "class_map = {0: \"Not Toxic\", \n",
    "            1: \"Toxic\"}"
   ]
  },
  {
   "cell_type": "code",
   "execution_count": 40,
   "id": "bc80f28f",
   "metadata": {},
   "outputs": [
    {
     "name": "stdout",
     "output_type": "stream",
     "text": [
      "Model predicted your sentiment as Toxic.\n"
     ]
    }
   ],
   "source": [
    "pred = [\"@LlishaH LOL! It's an acronym for: that hoe over there.\"]\n",
    "my_pred = tfidf_vectorizer.transform(pred)\n",
    "\n",
    "my_predClass = pac.predict(my_pred)\n",
    "print(f\"Model predicted your sentiment as {class_map[int(my_predClass[0])]}.\")"
   ]
  },
  {
   "cell_type": "markdown",
   "id": "7e72ac62",
   "metadata": {},
   "source": [
    "### Save PAC model via Pickle"
   ]
  },
  {
   "cell_type": "code",
   "execution_count": 23,
   "id": "650b27b5",
   "metadata": {},
   "outputs": [],
   "source": [
    "import pickle\n",
    "\n",
    "pickle_file = open('pac.pkl', 'ab')\n",
    "pickle.dump(pac, pickle_file)                     \n",
    "pickle_file.close()"
   ]
  },
  {
   "cell_type": "markdown",
   "id": "aee58a42",
   "metadata": {},
   "source": [
    "## Building XGBoost Classifier to Prediction"
   ]
  },
  {
   "cell_type": "code",
   "execution_count": 24,
   "id": "e1a17c96",
   "metadata": {},
   "outputs": [],
   "source": [
    "from xgboost import XGBClassifier"
   ]
  },
  {
   "cell_type": "code",
   "execution_count": 25,
   "id": "f88c257f",
   "metadata": {},
   "outputs": [
    {
     "name": "stdout",
     "output_type": "stream",
     "text": [
      "[01:52:06] WARNING: C:/Users/Administrator/workspace/xgboost-win64_release_1.5.1/src/learner.cc:1115: Starting in XGBoost 1.3.0, the default evaluation metric used with the objective 'binary:logistic' was changed from 'error' to 'logloss'. Explicitly set eval_metric if you'd like to restore the old behavior.\n"
     ]
    },
    {
     "data": {
      "text/plain": [
       "XGBClassifier(base_score=0.5, booster='gbtree', colsample_bylevel=1,\n",
       "              colsample_bynode=1, colsample_bytree=1, enable_categorical=False,\n",
       "              gamma=0, gpu_id=-1, importance_type=None,\n",
       "              interaction_constraints='', learning_rate=0.300000012,\n",
       "              max_delta_step=0, max_depth=6, min_child_weight=1, missing=nan,\n",
       "              monotone_constraints='()', n_estimators=100, n_jobs=8,\n",
       "              num_parallel_tree=1, predictor='auto', random_state=0,\n",
       "              reg_alpha=0, reg_lambda=1, scale_pos_weight=1, subsample=1,\n",
       "              tree_method='exact', validate_parameters=1, verbosity=None)"
      ]
     },
     "execution_count": 25,
     "metadata": {},
     "output_type": "execute_result"
    }
   ],
   "source": [
    "classifier= XGBClassifier()\n",
    "classifier.fit(tfidf_train, y_train)"
   ]
  },
  {
   "cell_type": "code",
   "execution_count": 26,
   "id": "5c821e40",
   "metadata": {},
   "outputs": [],
   "source": [
    "y_pred = classifier.predict(tfidf_test)"
   ]
  },
  {
   "cell_type": "markdown",
   "id": "063a6191",
   "metadata": {},
   "source": [
    "### Building confusion matrix"
   ]
  },
  {
   "cell_type": "code",
   "execution_count": 27,
   "id": "7e905e97",
   "metadata": {},
   "outputs": [
    {
     "name": "stdout",
     "output_type": "stream",
     "text": [
      "\n",
      "Confusion Matrix(XGBoost):\n",
      " [[6410  562]\n",
      " [ 183 4194]]\n"
     ]
    }
   ],
   "source": [
    "cm2 = confusion_matrix(y_pred, y_test)  #  Comparing results\n",
    "print(\"\\nConfusion Matrix(XGBoost):\\n\", cm2)"
   ]
  },
  {
   "cell_type": "code",
   "execution_count": 28,
   "id": "54cc01f0",
   "metadata": {},
   "outputs": [
    {
     "name": "stdout",
     "output_type": "stream",
     "text": [
      "\n",
      "Accuracy score (XGBoost): 0.9343554498193674\n"
     ]
    }
   ],
   "source": [
    "print(f\"\\nAccuracy score (XGBoost): {accuracy_score(y_test, y_pred)}\")"
   ]
  },
  {
   "cell_type": "markdown",
   "id": "4e2999ac",
   "metadata": {},
   "source": [
    "### Prediction"
   ]
  },
  {
   "cell_type": "code",
   "execution_count": 37,
   "id": "1b144260",
   "metadata": {},
   "outputs": [
    {
     "name": "stdout",
     "output_type": "stream",
     "text": [
      "Model predicted your sentiment as Toxic.\n"
     ]
    }
   ],
   "source": [
    "xgb_sentiment = [\"@LlishaH LOL! It's an acronym for: that hoe over there.\"]\n",
    "xgb_sentiment_trans = tfidf_vectorizer.transform(xgb_sentiment)\n",
    "xgb_pred = classifier.predict(xgb_sentiment_trans)\n",
    "\n",
    "print(f\"Model predicted your sentiment as {class_map[int(xgb_pred[0])]}.\")"
   ]
  },
  {
   "cell_type": "markdown",
   "id": "79ec0fc6",
   "metadata": {},
   "source": [
    "### Save XGBoost model via Pickle"
   ]
  },
  {
   "cell_type": "code",
   "execution_count": 39,
   "id": "9e9d4609",
   "metadata": {},
   "outputs": [],
   "source": [
    "import pickle\n",
    "\n",
    "pickle_file = open('xgboost.pkl', 'ab')\n",
    "pickle.dump(classifier, pickle_file)                     \n",
    "pickle_file.close()"
   ]
  },
  {
   "cell_type": "code",
   "execution_count": null,
   "id": "26f58659",
   "metadata": {},
   "outputs": [],
   "source": []
  }
 ],
 "metadata": {
  "kernelspec": {
   "display_name": "Python 3 (ipykernel)",
   "language": "python",
   "name": "python3"
  },
  "language_info": {
   "codemirror_mode": {
    "name": "ipython",
    "version": 3
   },
   "file_extension": ".py",
   "mimetype": "text/x-python",
   "name": "python",
   "nbconvert_exporter": "python",
   "pygments_lexer": "ipython3",
   "version": "3.9.7"
  }
 },
 "nbformat": 4,
 "nbformat_minor": 5
}
